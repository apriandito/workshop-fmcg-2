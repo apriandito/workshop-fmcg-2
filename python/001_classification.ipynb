{
  "nbformat": 4,
  "nbformat_minor": 0,
  "metadata": {
    "colab": {
      "provenance": [],
      "collapsed_sections": [],
      "authorship_tag": "ABX9TyOV1td4c05qboyO2cOwrt0U",
      "include_colab_link": true
    },
    "kernelspec": {
      "name": "python3",
      "display_name": "Python 3"
    },
    "language_info": {
      "name": "python"
    }
  },
  "cells": [
    {
      "cell_type": "markdown",
      "metadata": {
        "id": "view-in-github",
        "colab_type": "text"
      },
      "source": [
        "<a href=\"https://colab.research.google.com/github/apriandito/workshop-fmcg-2/blob/main/python/001_classification.ipynb\" target=\"_parent\"><img src=\"https://colab.research.google.com/assets/colab-badge.svg\" alt=\"Open In Colab\"/></a>"
      ]
    },
    {
      "cell_type": "markdown",
      "source": [
        "*Muhammad Apriandito - FMCG Workshop*\n",
        "\n",
        "\n",
        "---\n",
        "\n"
      ],
      "metadata": {
        "id": "GEDvDHCVd74e"
      }
    },
    {
      "cell_type": "markdown",
      "source": [
        "### **Load Packages and Modules**"
      ],
      "metadata": {
        "id": "Ex80_vemt6Nz"
      }
    },
    {
      "cell_type": "code",
      "execution_count": null,
      "metadata": {
        "id": "dIkb01OzdtdG"
      },
      "outputs": [],
      "source": [
        "# Load Packages\n",
        "import pandas as pd\n",
        "import seaborn as sns\n",
        "import matplotlib.pyplot as plt\n",
        "\n",
        "# Load Modules\n",
        "from sklearn.model_selection import train_test_split, cross_val_score\n",
        "from sklearn import tree\n",
        "from sklearn.naive_bayes import GaussianNB \n",
        "from sklearn import metrics\n",
        "from sklearn.metrics import roc_curve, auc"
      ]
    },
    {
      "cell_type": "markdown",
      "source": [
        "### **Load Data**"
      ],
      "metadata": {
        "id": "dsHjtk5yt-wc"
      }
    },
    {
      "cell_type": "code",
      "source": [
        "# Load Data\n",
        "df  = pd.read_csv(\"https://raw.githubusercontent.com/apriandito/workshop-fmcg-2/main/data/milk-3.csv\")"
      ],
      "metadata": {
        "id": "Ugpcu8dueQ7D"
      },
      "execution_count": null,
      "outputs": []
    },
    {
      "cell_type": "markdown",
      "source": [
        "### **Data Exploration**"
      ],
      "metadata": {
        "id": "KfUsIi1ygL29"
      }
    },
    {
      "cell_type": "code",
      "source": [
        "# Show Data\n",
        "df"
      ],
      "metadata": {
        "id": "H00WKQ5zetRo"
      },
      "execution_count": null,
      "outputs": []
    },
    {
      "cell_type": "code",
      "source": [
        "# Check Data Information\n",
        "df.info()"
      ],
      "metadata": {
        "id": "od0tJ5z3hlsG"
      },
      "execution_count": null,
      "outputs": []
    },
    {
      "cell_type": "code",
      "source": [
        "# Visualize Grade Distribution\n",
        "sns.countplot(x=\"grade\", \n",
        "              data=df)"
      ],
      "metadata": {
        "id": "yrYYmKK0fCKr"
      },
      "execution_count": null,
      "outputs": []
    },
    {
      "cell_type": "code",
      "source": [
        "# Visualize Pairplot\n",
        "sns.pairplot(data=df)"
      ],
      "metadata": {
        "id": "lOiaBdLkYxsO"
      },
      "execution_count": null,
      "outputs": []
    },
    {
      "cell_type": "markdown",
      "source": [
        "### **Select Features and Target**"
      ],
      "metadata": {
        "id": "h_b7Sn0dtwh-"
      }
    },
    {
      "cell_type": "code",
      "source": [
        "# Select Features\n",
        "feature = df[['ph', \n",
        "              'temprature',\n",
        "              'taste', \n",
        "              'fat',\n",
        "              'turbidity',\n",
        "              'colour']]"
      ],
      "metadata": {
        "id": "SNd2lywhh3cB"
      },
      "execution_count": null,
      "outputs": []
    },
    {
      "cell_type": "code",
      "source": [
        "# Select Target\n",
        "target = df['grade']"
      ],
      "metadata": {
        "id": "796t5G1_iNEV"
      },
      "execution_count": null,
      "outputs": []
    },
    {
      "cell_type": "code",
      "source": [
        "# Set Training and Testing Data (70:30)\n",
        "X_train, X_test, y_train, y_test  = train_test_split(feature , target, shuffle = True, test_size=0.3)"
      ],
      "metadata": {
        "id": "7InDGHuhiUCM"
      },
      "execution_count": null,
      "outputs": []
    },
    {
      "cell_type": "code",
      "source": [
        "# Show the Training and Testing Data\n",
        "print(X_train.shape)\n",
        "print(X_test.shape)\n",
        "print(y_train.shape)\n",
        "print(y_test.shape)"
      ],
      "metadata": {
        "id": "Gs540BqB2RGq"
      },
      "execution_count": null,
      "outputs": []
    },
    {
      "cell_type": "markdown",
      "source": [
        "### **Modeling**"
      ],
      "metadata": {
        "id": "YqNHD3MMt17P"
      }
    },
    {
      "cell_type": "code",
      "source": [
        "# Modeling Decision Tree\n",
        "dtc = tree.DecisionTreeClassifier()\n",
        "dtc.fit(X_train, y_train)\n",
        "\n",
        "# Predict to Test Data \n",
        "y_pred_dtc = dtc.predict(X_test)"
      ],
      "metadata": {
        "id": "k0YBmA_Oig-g"
      },
      "execution_count": null,
      "outputs": []
    },
    {
      "cell_type": "code",
      "source": [
        "tree.plot_tree(dtc)"
      ],
      "metadata": {
        "id": "-cp52ZTgZXSG"
      },
      "execution_count": null,
      "outputs": []
    },
    {
      "cell_type": "code",
      "source": [
        "# Modeling Naive Bayes Classifier\n",
        "gnb = GaussianNB()\n",
        "gnb.fit(X_train, y_train)\n",
        "\n",
        "# Predict to Test Data\n",
        "y_pred_gnb= gnb.predict(X_test)"
      ],
      "metadata": {
        "id": "TXZMrttckMgH"
      },
      "execution_count": null,
      "outputs": []
    },
    {
      "cell_type": "markdown",
      "source": [
        "### **Evaluation**"
      ],
      "metadata": {
        "id": "zjeLluxcJmOw"
      }
    },
    {
      "cell_type": "code",
      "source": [
        "# Show the Accuracy, Precision, Recall\n",
        "acc_dtc = metrics.accuracy_score(y_test, y_pred_dtc)\n",
        "prec_dtc = metrics.precision_score(y_test, y_pred_dtc, average = 'weighted')\n",
        "rec_dtc = metrics.recall_score(y_test, y_pred_dtc, average = 'weighted')\n",
        "f1_dtc = metrics.f1_score(y_test, y_pred_dtc ,average = 'weighted')\n",
        "kappa_dtc = metrics.cohen_kappa_score(y_test, y_pred_dtc)\n",
        "\n",
        "print(\"Accuracy:\", acc_dtc)\n",
        "print(\"Precision:\", prec_dtc)\n",
        "print(\"Recall:\", rec_dtc)\n",
        "print(\"F1 Score:\", f1_dtc)\n",
        "print(\"Cohens Kappa Score:\", kappa_dtc)"
      ],
      "metadata": {
        "id": "BtCzW8r-il93"
      },
      "execution_count": null,
      "outputs": []
    },
    {
      "cell_type": "code",
      "source": [
        "# Visualize ROC Curve: Decision Tree\n",
        "y_pred_dtc_proba = dtc.predict_proba(X_test)[::,1]\n",
        "fprdtc, tprdtc, _ = metrics.roc_curve(y_test,  y_pred_dtc_proba)\n",
        "aucdtc = metrics.roc_auc_score(y_test, y_pred_dtc_proba)\n",
        "plt.plot(fprdtc,tprdtc,label=\"Decision Tree, auc=\"+str(aucdtc))\n",
        "plt.title('ROC Curve - Decision Tree')\n",
        "plt.xlabel('false positive rate') \n",
        "plt.ylabel('true positive rate')\n",
        "plt.legend(loc=4)\n",
        "plt.show()"
      ],
      "metadata": {
        "id": "TkPVWaLGYq63"
      },
      "execution_count": null,
      "outputs": []
    },
    {
      "cell_type": "code",
      "source": [
        "# Show the Accuracy, Precision, Recall\n",
        "acc_gnb = metrics.accuracy_score(y_test, y_pred_gnb)\n",
        "prec_gnb = metrics.precision_score(y_test, y_pred_gnb, average = 'weighted')\n",
        "rec_gnb = metrics.recall_score(y_test, y_pred_gnb, average = 'weighted')\n",
        "f1_gnb = metrics.f1_score(y_test, y_pred_gnb, average = 'weighted')\n",
        "kappa_gnb = metrics.cohen_kappa_score(y_test, y_pred_gnb)\n",
        "\n",
        "print(\"Accuracy:\", acc_gnb)\n",
        "print(\"Precision:\", prec_gnb)\n",
        "print(\"Recall:\", rec_gnb)\n",
        "print(\"F1 Score:\", f1_gnb)\n",
        "print(\"Cohens Kappa Score:\", kappa_gnb)"
      ],
      "metadata": {
        "id": "daH6GMMRIESo"
      },
      "execution_count": null,
      "outputs": []
    },
    {
      "cell_type": "code",
      "source": [
        "# ROC Curve: Naive Bayes\n",
        "y_pred_gnb_proba = gnb.predict_proba(X_test)[::,1]\n",
        "fprgnb, tprgnb, _ = metrics.roc_curve(y_test,  y_pred_gnb_proba)\n",
        "aucgnb = metrics.roc_auc_score(y_test, y_pred_gnb_proba)\n",
        "plt.plot(fprgnb,tprgnb,label=\"Naive Bayes, auc=\"+str(aucgnb))\n",
        "plt.title('ROC Curve - Naive Bayes')\n",
        "plt.xlabel('false positive rate') \n",
        "plt.ylabel('true positive rate')\n",
        "plt.legend(loc=4)\n",
        "plt.show()"
      ],
      "metadata": {
        "id": "2Cg6qyUuYmSD"
      },
      "execution_count": null,
      "outputs": []
    }
  ]
}