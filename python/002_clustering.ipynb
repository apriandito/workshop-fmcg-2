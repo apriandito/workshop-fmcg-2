{
  "nbformat": 4,
  "nbformat_minor": 0,
  "metadata": {
    "colab": {
      "provenance": [],
      "collapsed_sections": [],
      "authorship_tag": "ABX9TyMKw99D5qOGwNOwym/fUxlf",
      "include_colab_link": true
    },
    "kernelspec": {
      "name": "python3",
      "display_name": "Python 3"
    },
    "language_info": {
      "name": "python"
    }
  },
  "cells": [
    {
      "cell_type": "markdown",
      "metadata": {
        "id": "view-in-github",
        "colab_type": "text"
      },
      "source": [
        "<a href=\"https://colab.research.google.com/github/apriandito/workshop-fmcg-2/blob/main/python/002_clustering.ipynb\" target=\"_parent\"><img src=\"https://colab.research.google.com/assets/colab-badge.svg\" alt=\"Open In Colab\"/></a>"
      ]
    },
    {
      "cell_type": "markdown",
      "source": [
        "*Muhammad Apriandito - FMCG Workshop*\n",
        "\n",
        "\n",
        "---\n",
        "\n"
      ],
      "metadata": {
        "id": "b0mpKmrLk1n1"
      }
    },
    {
      "cell_type": "markdown",
      "source": [
        "### **Load Packages and Modules**"
      ],
      "metadata": {
        "id": "8SfCb6xOs3BE"
      }
    },
    {
      "cell_type": "code",
      "execution_count": null,
      "metadata": {
        "id": "ati49gCBkt6F"
      },
      "outputs": [],
      "source": [
        "# Load Packages\n",
        "import pandas as pd\n",
        "import seaborn as sns\n",
        "import matplotlib.pyplot as plt\n",
        "\n",
        "# Load Modules\n",
        "from sklearn.preprocessing import StandardScaler \n",
        "from sklearn.metrics import silhouette_score\n",
        "from sklearn.cluster import KMeans"
      ]
    },
    {
      "cell_type": "markdown",
      "source": [
        "### **Load Data**"
      ],
      "metadata": {
        "id": "-TNkBVpxs5x9"
      }
    },
    {
      "cell_type": "code",
      "source": [
        "# Load Data\n",
        "df  = pd.read_csv(\"https://raw.githubusercontent.com/apriandito/workshop-fmcg-2/main/data/nutrition.csv\")"
      ],
      "metadata": {
        "id": "i1QWjcqhk9HO"
      },
      "execution_count": null,
      "outputs": []
    },
    {
      "cell_type": "code",
      "source": [
        "# Show Data\n",
        "df"
      ],
      "metadata": {
        "id": "wk9KekHglGcJ"
      },
      "execution_count": null,
      "outputs": []
    },
    {
      "cell_type": "code",
      "source": [
        "# Show Data information\n",
        "df.info()"
      ],
      "metadata": {
        "id": "FeahXOcnuTEm"
      },
      "execution_count": null,
      "outputs": []
    },
    {
      "cell_type": "code",
      "source": [
        "# Select tenure and monthly chareges variable for clustering\n",
        "df_cluster = df[['calories', 'saturated_fat']]\n",
        "df_cluster "
      ],
      "metadata": {
        "id": "MupIHWDNuRXy"
      },
      "execution_count": null,
      "outputs": []
    },
    {
      "cell_type": "code",
      "source": [
        "# Visualizing the Data\n",
        "sns.scatterplot(x='calories', y='saturated_fat', data = df_cluster)"
      ],
      "metadata": {
        "id": "hOOJFI0gwvy9"
      },
      "execution_count": null,
      "outputs": []
    },
    {
      "cell_type": "markdown",
      "source": [
        "#### **Pre-Processing**"
      ],
      "metadata": {
        "id": "RhAb8G6YwuA0"
      }
    },
    {
      "cell_type": "code",
      "source": [
        "# Set Name for StandardScaler as scaler\n",
        "scaler = StandardScaler() \n",
        "\n",
        "# Fit Standardization\n",
        "column_names = df_cluster.columns.tolist()\n",
        "df_cluster[column_names] = scaler.fit_transform(df_cluster[column_names])\n",
        "df_cluster.sort_index(inplace=True)\n",
        "df_cluster"
      ],
      "metadata": {
        "id": "UthTxtmHufXi"
      },
      "execution_count": null,
      "outputs": []
    },
    {
      "cell_type": "markdown",
      "source": [
        "#### **Search for the Optimum Number of Clusters (k)**"
      ],
      "metadata": {
        "id": "uqnIeOIowr08"
      }
    },
    {
      "cell_type": "code",
      "source": [
        "# Transform Data Frame to Numpy Array\n",
        "np_cluster = df_cluster.to_numpy()\n",
        "np_cluster\n",
        "\n",
        "# Elbow Method\n",
        "from sklearn.cluster import KMeans\n",
        "wcss = []\n",
        "for i in range(1,11):\n",
        "    kmeans = KMeans(n_clusters=i, init='k-means++', max_iter=300, n_init=10, random_state=0)\n",
        "    kmeans.fit(np_cluster)\n",
        "    wcss.append(kmeans.inertia_)\n",
        "  \n",
        "# Visualize \n",
        "plt.plot(range(1,11),wcss)\n",
        "plt.title('Elbow Method')\n",
        "plt.xlabel('Number of clusters')\n",
        "plt.ylabel('wcss')\n",
        "plt.show()"
      ],
      "metadata": {
        "id": "HL7lD9RTuiA-"
      },
      "execution_count": null,
      "outputs": []
    },
    {
      "cell_type": "code",
      "source": [
        "for n_cluster in range(2, 11):\n",
        "    kmeans = KMeans(n_clusters=n_cluster).fit(np_cluster)\n",
        "    label = kmeans.labels_\n",
        "    sil_coeff = silhouette_score(np_cluster, label, metric='euclidean')\n",
        "    print('For n_clusters={}, The Silhouette Coefficient is {}'.format(n_cluster, sil_coeff))"
      ],
      "metadata": {
        "id": "ULPk7AsEve4v"
      },
      "execution_count": null,
      "outputs": []
    },
    {
      "cell_type": "markdown",
      "source": [
        "#### **K-Means Clustering**"
      ],
      "metadata": {
        "id": "FDMqWfSOwpRd"
      }
    },
    {
      "cell_type": "code",
      "source": [
        "# Apply the K-Means Model to the Data\n",
        "kmeans = KMeans(n_clusters=2, init='k-means++')\n",
        "cluster = kmeans.fit_predict((np_cluster))"
      ],
      "metadata": {
        "id": "4uOcjkLJv7mG"
      },
      "execution_count": null,
      "outputs": []
    },
    {
      "cell_type": "code",
      "source": [
        "# Add Cluster Information to the Raw Data\n",
        "df_cluster['cluster'] = cluster\n",
        "df_cluster"
      ],
      "metadata": {
        "id": "HItfsE97v9rH"
      },
      "execution_count": null,
      "outputs": []
    },
    {
      "cell_type": "code",
      "source": [
        "# Visualize\n",
        "sns.scatterplot(x='calories',\n",
        "                y='saturated_fat',\n",
        "                hue=\"cluster\", \n",
        "                data=df_cluster)"
      ],
      "metadata": {
        "id": "4w_dFtJEv_9l"
      },
      "execution_count": null,
      "outputs": []
    }
  ]
}